{
 "cells": [
  {
   "cell_type": "code",
   "execution_count": null,
   "metadata": {},
   "outputs": [],
   "source": [
    "# Ustawiamy zmienną repo_path tak, aby zawierała ścieżkę do repozytorium:"
   ]
  },
  {
   "cell_type": "code",
   "execution_count": 1,
   "metadata": {},
   "outputs": [],
   "source": [
    "repo_path=\"/home/students/s407535/Desktop/mieszkania3\""
   ]
  },
  {
   "cell_type": "code",
   "execution_count": null,
   "metadata": {},
   "outputs": [],
   "source": [
    "# Importujemy podstawowe potrzebne biblioteki:"
   ]
  },
  {
   "cell_type": "code",
   "execution_count": 2,
   "metadata": {},
   "outputs": [],
   "source": [
    "import numpy as np\n",
    "import pandas as pd\n",
    "import string"
   ]
  },
  {
   "cell_type": "code",
   "execution_count": null,
   "metadata": {},
   "outputs": [],
   "source": [
    "# Piszemy potrzebne funkcje:"
   ]
  },
  {
   "cell_type": "code",
   "execution_count": 3,
   "metadata": {},
   "outputs": [],
   "source": [
    "def zerojeden(df):\n",
    "    for j in range(0,len(df)):\n",
    "        if (df[j,1]==' więcej niż 8'):\n",
    "            df[j,1]=\"10\"\n",
    "    df=df.astype(np.float)\n",
    "    col_mean = np.nanmean(df, axis=0)\n",
    "    inds = np.where(np.isnan(df))\n",
    "    df[inds] = np.take(col_mean, inds[1])\n",
    "    return df\n",
    "def parter(df):\n",
    "    for j in range(0,len(df)):\n",
    "        if (df[j,1]==' parter'):\n",
    "            df[j,1]=\"0\"\n",
    "        elif (df[j,1]==' niski parter'):\n",
    "            df[j,1]=\"0\"\n",
    "        elif (df[j,1]==' poddasze'):\n",
    "            df[j,1]=\"0\"\n",
    "    df=df.astype(np.float)\n",
    "    col_mean = np.nanmean(df, axis=0)\n",
    "    inds = np.where(np.isnan(df))\n",
    "    df[inds] = np.take(col_mean, inds[1])\n",
    "    return df"
   ]
  },
  {
   "cell_type": "code",
   "execution_count": null,
   "metadata": {},
   "outputs": [],
   "source": [
    "# Wczytujemy dane treningowe:"
   ]
  },
  {
   "cell_type": "code",
   "execution_count": 4,
   "metadata": {},
   "outputs": [],
   "source": [
    "train_data_path = \"{}/train/train.tsv\".format(repo_path)\n",
    "train_data = pd.read_csv(train_data_path, delimiter='\\t', encoding='utf-8', engine='python')"
   ]
  },
  {
   "cell_type": "code",
   "execution_count": null,
   "metadata": {},
   "outputs": [],
   "source": [
    "# Znajdujemy odpowiednie kolumny i przypisujemy je do zmiennych X_columns i y_column, które są listami:"
   ]
  },
  {
   "cell_type": "code",
   "execution_count": 5,
   "metadata": {},
   "outputs": [],
   "source": [
    "#X_columns = ['Powierzchnia w m2', 'Liczba pokoi']\n",
    "#X_columns = ['Powierzchnia w m2', 'Liczba pokoi', 'Liczba pięter w budynku']\n",
    "#X_columns = ['Powierzchnia w m2', 'Liczba pięter w budynku']\n",
    "X_columns = ['Powierzchnia w m2', 'Liczba pokoi', 'Liczba pięter w budynku', 'Powierzchnia działki w m2']\n",
    "#X_columns = ['Powierzchnia w m2', 'Liczba pokoi', 'Powierzchnia działki w m2']\n",
    "#X_columns = ['Powierzchnia w m2', 'Piętro']\n",
    "#X_columns = ['Powierzchnia w m2', 'Liczba pokoi', 'Rok budowy']\n",
    "\n",
    "y_column = ['cena']"
   ]
  },
  {
   "cell_type": "code",
   "execution_count": null,
   "metadata": {},
   "outputs": [],
   "source": [
    "# Przygotowujemy dane treningowe. Na podstawie danych z X będziemy chcieli przewidzieć y:"
   ]
  },
  {
   "cell_type": "code",
   "execution_count": 6,
   "metadata": {},
   "outputs": [
    {
     "name": "stdout",
     "output_type": "stream",
     "text": [
      "X shape: (4938, 4)\n",
      "Y shape: (4938, 1)\n"
     ]
    }
   ],
   "source": [
    "X = train_data[X_columns].values\n",
    "y = train_data[y_column].values\n",
    "\n",
    "print(\"X shape:\", X.shape)\n",
    "print(\"Y shape:\", y.shape)"
   ]
  },
  {
   "cell_type": "code",
   "execution_count": null,
   "metadata": {},
   "outputs": [],
   "source": [
    "# Używamy odpowiednio napisanych funkcji na zmiennej X:"
   ]
  },
  {
   "cell_type": "code",
   "execution_count": 7,
   "metadata": {},
   "outputs": [],
   "source": [
    "X=zerojeden(X)\n",
    "#X=parter(X)"
   ]
  },
  {
   "cell_type": "code",
   "execution_count": null,
   "metadata": {},
   "outputs": [],
   "source": [
    "# Importujemy bibliotekę potrzebną do wytrenowania modelu:"
   ]
  },
  {
   "cell_type": "code",
   "execution_count": 8,
   "metadata": {},
   "outputs": [],
   "source": [
    "#from sklearn.linear_model import LinearRegression\n",
    "#from sklearn.neighbors import KNeighborsClassifier\n",
    "#from sklearn.linear_model import LogisticRegression\n",
    "#from sklearn.naive_bayes import MultinomialNB\n",
    "from sklearn.tree import DecisionTreeClassifier\n",
    "#from sklearn.ensemble import RandomForestClassifier"
   ]
  },
  {
   "cell_type": "code",
   "execution_count": null,
   "metadata": {},
   "outputs": [],
   "source": [
    "# Tworzymy obiekt odpowiedniego typu i przypisujemy do zmiennej model:"
   ]
  },
  {
   "cell_type": "code",
   "execution_count": 9,
   "metadata": {},
   "outputs": [],
   "source": [
    "#model = LinearRegression()\n",
    "#model = KNeighborsClassifier(n_neighbors=3)\n",
    "#model =  LogisticRegression()\n",
    "#model = MultinomialNB(alpha=0.01)\n",
    "model = DecisionTreeClassifier()\n",
    "#model =  RandomForestClassifier(n_estimators=100)"
   ]
  },
  {
   "cell_type": "code",
   "execution_count": null,
   "metadata": {},
   "outputs": [],
   "source": [
    "# Trenujemy model na danych X i y:"
   ]
  },
  {
   "cell_type": "code",
   "execution_count": 10,
   "metadata": {},
   "outputs": [
    {
     "data": {
      "text/plain": [
       "DecisionTreeClassifier(class_weight=None, criterion='gini', max_depth=None,\n",
       "            max_features=None, max_leaf_nodes=None,\n",
       "            min_impurity_decrease=0.0, min_impurity_split=None,\n",
       "            min_samples_leaf=1, min_samples_split=2,\n",
       "            min_weight_fraction_leaf=0.0, presort=False, random_state=None,\n",
       "            splitter='best')"
      ]
     },
     "execution_count": 10,
     "metadata": {},
     "output_type": "execute_result"
    }
   ],
   "source": [
    "model.fit(X,y)"
   ]
  },
  {
   "cell_type": "code",
   "execution_count": null,
   "metadata": {},
   "outputs": [],
   "source": [
    "# Wczytujemy zbiór walidacyjny:"
   ]
  },
  {
   "cell_type": "code",
   "execution_count": 11,
   "metadata": {},
   "outputs": [],
   "source": [
    "valid_data_X = pd.read_csv(\"{}/dev-0/in.tsv\".format(repo_path),\n",
    "                           delimiter='\\t',\n",
    "                           encoding='utf-8',\n",
    "                           engine='python',\n",
    "                           names=train_data.columns[1:])\n",
    "\n",
    "valid_data_y = pd.read_csv(\"{}/dev-0/expected.tsv\".format(repo_path),\n",
    "                           delimiter='\\t',\n",
    "                           encoding='utf-8',\n",
    "                           engine='python',\n",
    "                           names=train_data.columns[:1])\n",
    "\n",
    "X_valid = valid_data_X[X_columns].values\n",
    "y_valid = valid_data_y[y_column].values"
   ]
  },
  {
   "cell_type": "code",
   "execution_count": null,
   "metadata": {},
   "outputs": [],
   "source": [
    "# Wczytujemy zbiór testowy:"
   ]
  },
  {
   "cell_type": "code",
   "execution_count": 12,
   "metadata": {},
   "outputs": [],
   "source": [
    "test_data_X = pd.read_csv(\"{}/test-A/in.tsv\".format(repo_path),\n",
    "                           delimiter='\\t',\n",
    "                           encoding='utf-8',\n",
    "                           names=train_data.columns[1:],\n",
    "                           lineterminator='\\n')\n",
    "\n",
    "\n",
    "X_test = test_data_X[X_columns].values"
   ]
  },
  {
   "cell_type": "code",
   "execution_count": null,
   "metadata": {},
   "outputs": [],
   "source": [
    "# Używamy odpowiednio napisanych funkcji na zmiennych X_valid, X_test:"
   ]
  },
  {
   "cell_type": "code",
   "execution_count": 13,
   "metadata": {},
   "outputs": [],
   "source": [
    "X_valid=zerojeden(X_valid)\n",
    "#X_valid=parter(X_valid)\n",
    "\n",
    "X_test=zerojeden(X_test)\n",
    "#X_test=parter(X_test)"
   ]
  },
  {
   "cell_type": "code",
   "execution_count": null,
   "metadata": {},
   "outputs": [],
   "source": [
    "# Uruchamiamy model na zbiorze X_valid i zapisujemy wyjście do zmiennej valid_predicted:"
   ]
  },
  {
   "cell_type": "code",
   "execution_count": 14,
   "metadata": {},
   "outputs": [],
   "source": [
    "valid_predicted = model.predict(X_valid)"
   ]
  },
  {
   "cell_type": "code",
   "execution_count": null,
   "metadata": {},
   "outputs": [],
   "source": [
    "# Obliczamy metrykę RMSE na zbiorze walidacyjnym:"
   ]
  },
  {
   "cell_type": "code",
   "execution_count": 15,
   "metadata": {},
   "outputs": [
    {
     "name": "stdout",
     "output_type": "stream",
     "text": [
      "240820.00935051887\n"
     ]
    }
   ],
   "source": [
    "from sklearn.metrics import mean_squared_error\n",
    "rmse = np.sqrt(mean_squared_error(y_valid, model.predict(X_valid)))\n",
    "print(format(rmse))"
   ]
  },
  {
   "cell_type": "code",
   "execution_count": null,
   "metadata": {},
   "outputs": [],
   "source": [
    "# Wyniki dla kolumn: 'Powierzchnia w m2', 'Liczba pokoi'\n",
    "# Linear Regression: RMSE = 263589.1890774726\n",
    "# KNeighbors Classifier: RMSE = 237970.29741408484\n",
    "# Logistic Regression: RMSE = 353624.65754262666\n",
    "# Naive Bayes: RMSE = 454329.3603164207\n",
    "# Decision Tree: RMSE = 219046.962304096\n",
    "# Random Forest: RMSE = 221824.35655111907"
   ]
  },
  {
   "cell_type": "code",
   "execution_count": null,
   "metadata": {},
   "outputs": [],
   "source": [
    "# Wyniki dla kolumn: 'Powierzchnia w m2', 'Liczba pokoi', 'Liczba pięter w budynku'\n",
    "# Linear Regression: RMSE = 262739.1037960882\n",
    "# KNeighbors Classifier: RMSE = 219650.0922998076\n",
    "# Logistic Regression: RMSE = 351383.77693146846\n",
    "# Naive Bayes: RMSE = 340262.60432719905\n",
    "# Decision Tree: RMSE = 231516.56923682158"
   ]
  },
  {
   "cell_type": "code",
   "execution_count": null,
   "metadata": {},
   "outputs": [],
   "source": [
    "# Wyniki dla kolumn: 'Powierzchnia w m2', 'Liczba pięter w budynku'\n",
    "# Linear Regression: RMSE = 306251.01461749646\n",
    "# KNeighbors Classifier: RMSE = 237839.41277303893\n",
    "# Logistic Regression: RMSE = 390547.51859069336\n",
    "# Naive Bayes: RMSE = 369764.3541849052\n",
    "# Decision Tree: RMSE = 300295.8468435553"
   ]
  },
  {
   "cell_type": "code",
   "execution_count": null,
   "metadata": {},
   "outputs": [],
   "source": [
    "# Wyniki dla kolumn: 'Powierzchnia w m2', 'Liczba pokoi', 'Liczba pięter w budynku', 'Powierzchnia działki w m2'\n",
    "# Linear Regression: RMSE = 262788.53272360517\n",
    "# KNeighbors Classifier: RMSE = 265469.2426773166\n",
    "# Logistic Regression: RMSE = 324688.0134481407\n",
    "# Naive Bayes: RMSE = 316803.15829489136\n",
    "# Decision Tree: RMSE = 227515.52603171943, 245510.57957761004, 240820.00935051887"
   ]
  },
  {
   "cell_type": "code",
   "execution_count": null,
   "metadata": {},
   "outputs": [],
   "source": [
    "# Wyniki dla kolumn: 'Powierzchnia w m2', 'Liczba pokoi', 'Powierzchnia działki w m2'\n",
    "# Linear Regression: RMSE = 263634.7755254165\n",
    "# KNeighbors Classifier: RMSE = 265459.3543419934\n",
    "# Logistic Regression: RMSE = 327674.62654866034\n",
    "# Naive Bayes: RMSE = 298536.7069595228\n",
    "# Decision Tree: RMSE = 254787.85637606436\n",
    "# Random Forest: RMSE = 295462.16651874396"
   ]
  },
  {
   "cell_type": "code",
   "execution_count": null,
   "metadata": {},
   "outputs": [],
   "source": [
    "# Wyniki dla kolumn: 'Powierzchnia w m2', 'Piętro'\n",
    "# Linear Regression: RMSE = 310575.47604541923\n",
    "# KNeighbors Classifier: RMSE = 229725.61760441956\n",
    "# Logistic Regression: RMSE = 389507.1203698079\n",
    "# Naive Bayes: RMSE = 411988.8410839328\n",
    "# Decision Tree: RMSE = 283192.5543616922\n",
    "# Random Forest: RMSE = 258343.32560768045"
   ]
  },
  {
   "cell_type": "code",
   "execution_count": null,
   "metadata": {},
   "outputs": [],
   "source": [
    "# Wyniki dla kolumn: 'Powierzchnia w m2', 'Liczba pokoi', 'Rok budowy'\n",
    "# Linear Regression: RMSE = 262326.56540568924\n",
    "# KNeighbors Classifier: RMSE = 227299.98634028115\n",
    "# Logistic Regression: RMSE = 357670.2931241537\n",
    "# Naive Bayes: RMSE = 348624.420755721\n",
    "# Decision Tree: RMSE = 219434.86293669927"
   ]
  },
  {
   "cell_type": "code",
   "execution_count": null,
   "metadata": {},
   "outputs": [],
   "source": [
    "# Najlepszy uzyskany wynik dla kolumn: \n",
    "# 'Powierzchnia w m2', 'Liczba pokoi', 'Liczba pięter w budynku', 'Powierzchnia działki w m2'\n",
    "# Decision Tree\n",
    "# RMSE = 227515.52603171943"
   ]
  },
  {
   "cell_type": "code",
   "execution_count": null,
   "metadata": {},
   "outputs": [],
   "source": [
    "# Uruchamiamy model na zbiorze X_test i zapisujemy wyjście do zmiennej test_predicted:"
   ]
  },
  {
   "cell_type": "code",
   "execution_count": 16,
   "metadata": {},
   "outputs": [],
   "source": [
    "test_predicted = model.predict(X_test)"
   ]
  },
  {
   "cell_type": "code",
   "execution_count": null,
   "metadata": {},
   "outputs": [],
   "source": [
    "# Zapisujemy wyniki do odpowiednich plików:"
   ]
  },
  {
   "cell_type": "code",
   "execution_count": 17,
   "metadata": {},
   "outputs": [],
   "source": [
    "pd.Series(valid_predicted.flatten()).to_csv(\"{}/dev-0/out.tsv\".format(repo_path),\n",
    "                                            sep='\\t',\n",
    "                                            index=None)\n",
    "\n",
    "pd.Series(test_predicted.flatten()).to_csv(\"{}/test-A/out.tsv\".format(repo_path),\n",
    "                                           sep='\\t',\n",
    "                                           index=None)"
   ]
  },
  {
   "cell_type": "code",
   "execution_count": null,
   "metadata": {},
   "outputs": [],
   "source": []
  }
 ],
 "metadata": {
  "kernelspec": {
   "display_name": "Python 3",
   "language": "python",
   "name": "python3"
  },
  "language_info": {
   "codemirror_mode": {
    "name": "ipython",
    "version": 3
   },
   "file_extension": ".py",
   "mimetype": "text/x-python",
   "name": "python",
   "nbconvert_exporter": "python",
   "pygments_lexer": "ipython3",
   "version": "3.6.4"
  }
 },
 "nbformat": 4,
 "nbformat_minor": 2
}
